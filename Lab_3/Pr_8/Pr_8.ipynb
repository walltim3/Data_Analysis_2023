{
  "cells": [
    {
      "cell_type": "markdown",
      "metadata": {
        "id": "X_GcKpHcr8Nu"
      },
      "source": [
        "## 1. Load dataset"
      ]
    },
    {
      "cell_type": "code",
      "execution_count": 50,
      "metadata": {
        "id": "vlT7wixcr8Nv"
      },
      "outputs": [],
      "source": [
        "import nltk\n",
        "from nltk.tokenize import word_tokenize"
      ]
    },
    {
      "cell_type": "code",
      "source": [
        "from google.colab import drive\n",
        "drive.mount('/content/drive') #Processed_Lemmatization_emotions.json"
      ],
      "metadata": {
        "colab": {
          "base_uri": "https://localhost:8080/"
        },
        "id": "aKTa12epsFU3",
        "outputId": "58208ef0-ba5c-4ed5-b7ff-8c1272ac537c"
      },
      "execution_count": 51,
      "outputs": [
        {
          "output_type": "stream",
          "name": "stdout",
          "text": [
            "Drive already mounted at /content/drive; to attempt to forcibly remount, call drive.mount(\"/content/drive\", force_remount=True).\n"
          ]
        }
      ]
    },
    {
      "cell_type": "code",
      "execution_count": 52,
      "metadata": {
        "id": "MQloVc8Hr8Nx"
      },
      "outputs": [],
      "source": [
        "import pandas as pd\n",
        "df = pd.read_json('/content/drive/MyDrive/DA-23/Pr_8/Processed_Lemmatization_emotions.json')"
      ]
    },
    {
      "cell_type": "code",
      "execution_count": 53,
      "metadata": {
        "colab": {
          "base_uri": "https://localhost:8080/"
        },
        "id": "1niSNWP-r8Nx",
        "outputId": "9b4de2be-cddb-4370-f0ce-0f09cfd6e144"
      },
      "outputs": [
        {
          "output_type": "stream",
          "name": "stdout",
          "text": [
            "<class 'pandas.core.frame.DataFrame'>\n",
            "Int64Index: 19606 entries, 0 to 19998\n",
            "Data columns (total 2 columns):\n",
            " #   Column    Non-Null Count  Dtype \n",
            "---  ------    --------------  ----- \n",
            " 0   Sentence  19606 non-null  object\n",
            " 1   Emotion   19606 non-null  object\n",
            "dtypes: object(2)\n",
            "memory usage: 459.5+ KB\n"
          ]
        }
      ],
      "source": [
        "df.info()"
      ]
    },
    {
      "cell_type": "code",
      "source": [
        "df.describe()"
      ],
      "metadata": {
        "colab": {
          "base_uri": "https://localhost:8080/",
          "height": 175
        },
        "id": "aIjXRLlcTXrC",
        "outputId": "1be3ab49-4339-4bd8-a25b-d8db1966b614"
      },
      "execution_count": 54,
      "outputs": [
        {
          "output_type": "execute_result",
          "data": {
            "text/plain": [
              "                          Sentence Emotion\n",
              "count                        19606   19606\n",
              "unique                       19538       6\n",
              "top     im feeling little stressed     joy\n",
              "freq                             3    6644"
            ],
            "text/html": [
              "\n",
              "  <div id=\"df-ad28e687-78b0-4ff5-a35a-91a4dcf2511a\" class=\"colab-df-container\">\n",
              "    <div>\n",
              "<style scoped>\n",
              "    .dataframe tbody tr th:only-of-type {\n",
              "        vertical-align: middle;\n",
              "    }\n",
              "\n",
              "    .dataframe tbody tr th {\n",
              "        vertical-align: top;\n",
              "    }\n",
              "\n",
              "    .dataframe thead th {\n",
              "        text-align: right;\n",
              "    }\n",
              "</style>\n",
              "<table border=\"1\" class=\"dataframe\">\n",
              "  <thead>\n",
              "    <tr style=\"text-align: right;\">\n",
              "      <th></th>\n",
              "      <th>Sentence</th>\n",
              "      <th>Emotion</th>\n",
              "    </tr>\n",
              "  </thead>\n",
              "  <tbody>\n",
              "    <tr>\n",
              "      <th>count</th>\n",
              "      <td>19606</td>\n",
              "      <td>19606</td>\n",
              "    </tr>\n",
              "    <tr>\n",
              "      <th>unique</th>\n",
              "      <td>19538</td>\n",
              "      <td>6</td>\n",
              "    </tr>\n",
              "    <tr>\n",
              "      <th>top</th>\n",
              "      <td>im feeling little stressed</td>\n",
              "      <td>joy</td>\n",
              "    </tr>\n",
              "    <tr>\n",
              "      <th>freq</th>\n",
              "      <td>3</td>\n",
              "      <td>6644</td>\n",
              "    </tr>\n",
              "  </tbody>\n",
              "</table>\n",
              "</div>\n",
              "    <div class=\"colab-df-buttons\">\n",
              "\n",
              "  <div class=\"colab-df-container\">\n",
              "    <button class=\"colab-df-convert\" onclick=\"convertToInteractive('df-ad28e687-78b0-4ff5-a35a-91a4dcf2511a')\"\n",
              "            title=\"Convert this dataframe to an interactive table.\"\n",
              "            style=\"display:none;\">\n",
              "\n",
              "  <svg xmlns=\"http://www.w3.org/2000/svg\" height=\"24px\" viewBox=\"0 -960 960 960\">\n",
              "    <path d=\"M120-120v-720h720v720H120Zm60-500h600v-160H180v160Zm220 220h160v-160H400v160Zm0 220h160v-160H400v160ZM180-400h160v-160H180v160Zm440 0h160v-160H620v160ZM180-180h160v-160H180v160Zm440 0h160v-160H620v160Z\"/>\n",
              "  </svg>\n",
              "    </button>\n",
              "\n",
              "  <style>\n",
              "    .colab-df-container {\n",
              "      display:flex;\n",
              "      gap: 12px;\n",
              "    }\n",
              "\n",
              "    .colab-df-convert {\n",
              "      background-color: #E8F0FE;\n",
              "      border: none;\n",
              "      border-radius: 50%;\n",
              "      cursor: pointer;\n",
              "      display: none;\n",
              "      fill: #1967D2;\n",
              "      height: 32px;\n",
              "      padding: 0 0 0 0;\n",
              "      width: 32px;\n",
              "    }\n",
              "\n",
              "    .colab-df-convert:hover {\n",
              "      background-color: #E2EBFA;\n",
              "      box-shadow: 0px 1px 2px rgba(60, 64, 67, 0.3), 0px 1px 3px 1px rgba(60, 64, 67, 0.15);\n",
              "      fill: #174EA6;\n",
              "    }\n",
              "\n",
              "    .colab-df-buttons div {\n",
              "      margin-bottom: 4px;\n",
              "    }\n",
              "\n",
              "    [theme=dark] .colab-df-convert {\n",
              "      background-color: #3B4455;\n",
              "      fill: #D2E3FC;\n",
              "    }\n",
              "\n",
              "    [theme=dark] .colab-df-convert:hover {\n",
              "      background-color: #434B5C;\n",
              "      box-shadow: 0px 1px 3px 1px rgba(0, 0, 0, 0.15);\n",
              "      filter: drop-shadow(0px 1px 2px rgba(0, 0, 0, 0.3));\n",
              "      fill: #FFFFFF;\n",
              "    }\n",
              "  </style>\n",
              "\n",
              "    <script>\n",
              "      const buttonEl =\n",
              "        document.querySelector('#df-ad28e687-78b0-4ff5-a35a-91a4dcf2511a button.colab-df-convert');\n",
              "      buttonEl.style.display =\n",
              "        google.colab.kernel.accessAllowed ? 'block' : 'none';\n",
              "\n",
              "      async function convertToInteractive(key) {\n",
              "        const element = document.querySelector('#df-ad28e687-78b0-4ff5-a35a-91a4dcf2511a');\n",
              "        const dataTable =\n",
              "          await google.colab.kernel.invokeFunction('convertToInteractive',\n",
              "                                                    [key], {});\n",
              "        if (!dataTable) return;\n",
              "\n",
              "        const docLinkHtml = 'Like what you see? Visit the ' +\n",
              "          '<a target=\"_blank\" href=https://colab.research.google.com/notebooks/data_table.ipynb>data table notebook</a>'\n",
              "          + ' to learn more about interactive tables.';\n",
              "        element.innerHTML = '';\n",
              "        dataTable['output_type'] = 'display_data';\n",
              "        await google.colab.output.renderOutput(dataTable, element);\n",
              "        const docLink = document.createElement('div');\n",
              "        docLink.innerHTML = docLinkHtml;\n",
              "        element.appendChild(docLink);\n",
              "      }\n",
              "    </script>\n",
              "  </div>\n",
              "\n",
              "\n",
              "<div id=\"df-1bc307df-7ada-4e95-a531-347199217507\">\n",
              "  <button class=\"colab-df-quickchart\" onclick=\"quickchart('df-1bc307df-7ada-4e95-a531-347199217507')\"\n",
              "            title=\"Suggest charts\"\n",
              "            style=\"display:none;\">\n",
              "\n",
              "<svg xmlns=\"http://www.w3.org/2000/svg\" height=\"24px\"viewBox=\"0 0 24 24\"\n",
              "     width=\"24px\">\n",
              "    <g>\n",
              "        <path d=\"M19 3H5c-1.1 0-2 .9-2 2v14c0 1.1.9 2 2 2h14c1.1 0 2-.9 2-2V5c0-1.1-.9-2-2-2zM9 17H7v-7h2v7zm4 0h-2V7h2v10zm4 0h-2v-4h2v4z\"/>\n",
              "    </g>\n",
              "</svg>\n",
              "  </button>\n",
              "\n",
              "<style>\n",
              "  .colab-df-quickchart {\n",
              "      --bg-color: #E8F0FE;\n",
              "      --fill-color: #1967D2;\n",
              "      --hover-bg-color: #E2EBFA;\n",
              "      --hover-fill-color: #174EA6;\n",
              "      --disabled-fill-color: #AAA;\n",
              "      --disabled-bg-color: #DDD;\n",
              "  }\n",
              "\n",
              "  [theme=dark] .colab-df-quickchart {\n",
              "      --bg-color: #3B4455;\n",
              "      --fill-color: #D2E3FC;\n",
              "      --hover-bg-color: #434B5C;\n",
              "      --hover-fill-color: #FFFFFF;\n",
              "      --disabled-bg-color: #3B4455;\n",
              "      --disabled-fill-color: #666;\n",
              "  }\n",
              "\n",
              "  .colab-df-quickchart {\n",
              "    background-color: var(--bg-color);\n",
              "    border: none;\n",
              "    border-radius: 50%;\n",
              "    cursor: pointer;\n",
              "    display: none;\n",
              "    fill: var(--fill-color);\n",
              "    height: 32px;\n",
              "    padding: 0;\n",
              "    width: 32px;\n",
              "  }\n",
              "\n",
              "  .colab-df-quickchart:hover {\n",
              "    background-color: var(--hover-bg-color);\n",
              "    box-shadow: 0 1px 2px rgba(60, 64, 67, 0.3), 0 1px 3px 1px rgba(60, 64, 67, 0.15);\n",
              "    fill: var(--button-hover-fill-color);\n",
              "  }\n",
              "\n",
              "  .colab-df-quickchart-complete:disabled,\n",
              "  .colab-df-quickchart-complete:disabled:hover {\n",
              "    background-color: var(--disabled-bg-color);\n",
              "    fill: var(--disabled-fill-color);\n",
              "    box-shadow: none;\n",
              "  }\n",
              "\n",
              "  .colab-df-spinner {\n",
              "    border: 2px solid var(--fill-color);\n",
              "    border-color: transparent;\n",
              "    border-bottom-color: var(--fill-color);\n",
              "    animation:\n",
              "      spin 1s steps(1) infinite;\n",
              "  }\n",
              "\n",
              "  @keyframes spin {\n",
              "    0% {\n",
              "      border-color: transparent;\n",
              "      border-bottom-color: var(--fill-color);\n",
              "      border-left-color: var(--fill-color);\n",
              "    }\n",
              "    20% {\n",
              "      border-color: transparent;\n",
              "      border-left-color: var(--fill-color);\n",
              "      border-top-color: var(--fill-color);\n",
              "    }\n",
              "    30% {\n",
              "      border-color: transparent;\n",
              "      border-left-color: var(--fill-color);\n",
              "      border-top-color: var(--fill-color);\n",
              "      border-right-color: var(--fill-color);\n",
              "    }\n",
              "    40% {\n",
              "      border-color: transparent;\n",
              "      border-right-color: var(--fill-color);\n",
              "      border-top-color: var(--fill-color);\n",
              "    }\n",
              "    60% {\n",
              "      border-color: transparent;\n",
              "      border-right-color: var(--fill-color);\n",
              "    }\n",
              "    80% {\n",
              "      border-color: transparent;\n",
              "      border-right-color: var(--fill-color);\n",
              "      border-bottom-color: var(--fill-color);\n",
              "    }\n",
              "    90% {\n",
              "      border-color: transparent;\n",
              "      border-bottom-color: var(--fill-color);\n",
              "    }\n",
              "  }\n",
              "</style>\n",
              "\n",
              "  <script>\n",
              "    async function quickchart(key) {\n",
              "      const quickchartButtonEl =\n",
              "        document.querySelector('#' + key + ' button');\n",
              "      quickchartButtonEl.disabled = true;  // To prevent multiple clicks.\n",
              "      quickchartButtonEl.classList.add('colab-df-spinner');\n",
              "      try {\n",
              "        const charts = await google.colab.kernel.invokeFunction(\n",
              "            'suggestCharts', [key], {});\n",
              "      } catch (error) {\n",
              "        console.error('Error during call to suggestCharts:', error);\n",
              "      }\n",
              "      quickchartButtonEl.classList.remove('colab-df-spinner');\n",
              "      quickchartButtonEl.classList.add('colab-df-quickchart-complete');\n",
              "    }\n",
              "    (() => {\n",
              "      let quickchartButtonEl =\n",
              "        document.querySelector('#df-1bc307df-7ada-4e95-a531-347199217507 button');\n",
              "      quickchartButtonEl.style.display =\n",
              "        google.colab.kernel.accessAllowed ? 'block' : 'none';\n",
              "    })();\n",
              "  </script>\n",
              "</div>\n",
              "    </div>\n",
              "  </div>\n"
            ]
          },
          "metadata": {},
          "execution_count": 54
        }
      ]
    },
    {
      "cell_type": "code",
      "source": [
        "df['Emotion'].value_counts()"
      ],
      "metadata": {
        "colab": {
          "base_uri": "https://localhost:8080/"
        },
        "id": "KO7v1o0RUt_4",
        "outputId": "0975ded0-4634-4300-cc99-5ce8ab35dd7d"
      },
      "execution_count": 55,
      "outputs": [
        {
          "output_type": "execute_result",
          "data": {
            "text/plain": [
              "joy         6644\n",
              "sadness     5675\n",
              "anger       2640\n",
              "fear        2318\n",
              "love        1619\n",
              "surprise     710\n",
              "Name: Emotion, dtype: int64"
            ]
          },
          "metadata": {},
          "execution_count": 55
        }
      ]
    },
    {
      "cell_type": "markdown",
      "metadata": {
        "id": "wJr4_XRkr8Nz"
      },
      "source": [
        "## 2. Prepocessing"
      ]
    },
    {
      "cell_type": "code",
      "source": [
        "df_balanced = pd.DataFrame(columns=['Sentence','Emotion'])\n",
        "df_balanced = df_balanced.append(df[df.Emotion=='joy'].sample(n=710, random_state=1, ignore_index=True)) # good\n",
        "df_balanced = df_balanced.append(df[df.Emotion=='sadness'].sample(n=710, random_state=1, ignore_index=True)) # bad\n",
        "df_balanced = df_balanced.append(df[df.Emotion=='anger'].sample(n=710, random_state=1, ignore_index=True)) # bad\n",
        "df_balanced = df_balanced.append(df[df.Emotion=='fear'].sample(n=710, random_state=1, ignore_index=True)) # bad\n",
        "df_balanced = df_balanced.append(df[df.Emotion=='love'].sample(n=710, random_state=1, ignore_index=True)) # good\n",
        "df_balanced = df_balanced.append(df[df.Emotion=='surprise'].sample(n=710, random_state=1, ignore_index=True)) # good"
      ],
      "metadata": {
        "id": "Lge8szooX5EQ"
      },
      "execution_count": null,
      "outputs": []
    },
    {
      "cell_type": "code",
      "source": [
        "#df = df_balanced\n",
        "df['Emotion'].value_counts()"
      ],
      "metadata": {
        "colab": {
          "base_uri": "https://localhost:8080/"
        },
        "id": "GQVXI7uTax6q",
        "outputId": "647d8ecb-f40f-49b7-b9c3-44eb0c8c8fd4"
      },
      "execution_count": 57,
      "outputs": [
        {
          "output_type": "execute_result",
          "data": {
            "text/plain": [
              "joy         6644\n",
              "sadness     5675\n",
              "anger       2640\n",
              "fear        2318\n",
              "love        1619\n",
              "surprise     710\n",
              "Name: Emotion, dtype: int64"
            ]
          },
          "metadata": {},
          "execution_count": 57
        }
      ]
    },
    {
      "cell_type": "code",
      "execution_count": 58,
      "metadata": {
        "id": "vmwBVG1Zr8N5"
      },
      "outputs": [],
      "source": [
        "from sklearn.preprocessing import LabelEncoder\n",
        "from keras.utils import to_categorical"
      ]
    },
    {
      "cell_type": "code",
      "execution_count": 59,
      "metadata": {
        "colab": {
          "base_uri": "https://localhost:8080/"
        },
        "id": "W4Be3Bzbr8N5",
        "outputId": "a4e5c69d-5902-4d31-e0c0-e1ea2ab773fd"
      },
      "outputs": [
        {
          "output_type": "stream",
          "name": "stdout",
          "text": [
            "{'anger', 'fear', 'surprise', 'sadness', 'joy', 'love'}\n",
            "y: {0, 1, 2, 3, 4, 5}\n",
            "[[1. 0. 0. 0. 0. 0.]\n",
            " [1. 0. 0. 0. 0. 0.]\n",
            " [0. 0. 0. 0. 1. 0.]\n",
            " ...\n",
            " [0. 1. 0. 0. 0. 0.]\n",
            " [0. 0. 1. 0. 0. 0.]\n",
            " [0. 0. 1. 0. 0. 0.]]\n"
          ]
        }
      ],
      "source": [
        "y = df['Emotion'].values\n",
        "pd.get_dummies(df).astype('float32').values\n",
        "enc = LabelEncoder().fit(y)\n",
        "print(set(y))\n",
        "y = enc.transform(y)\n",
        "print(\"y:\", set(y))\n",
        "one_hot_labels = to_categorical(y)\n",
        "print(one_hot_labels)"
      ]
    },
    {
      "cell_type": "code",
      "source": [
        "corpus = df['Sentence'].values\n",
        "corpus"
      ],
      "metadata": {
        "colab": {
          "base_uri": "https://localhost:8080/"
        },
        "id": "jE362FDWxS0P",
        "outputId": "29883586-f2f2-45d3-ddd8-f441b2ee27bd"
      },
      "execution_count": 60,
      "outputs": [
        {
          "output_type": "execute_result",
          "data": {
            "text/plain": [
              "array(['boyfriend split came friend house visiting male friend confrontation another room tried find aroused friend feeling part',\n",
              "       'certain friend tried push seat violent way apparent reason may excited something',\n",
              "       'father child killed accident', ..., 'stayed vienna class',\n",
              "       'able afford new sofa leather one cost sek waited year',\n",
              "       'winning rowing race karapiro regatta friend'], dtype=object)"
            ]
          },
          "metadata": {},
          "execution_count": 60
        }
      ]
    },
    {
      "cell_type": "code",
      "source": [
        "from tensorflow.keras.preprocessing.text import Tokenizer\n",
        "from tensorflow.keras.preprocessing.sequence import pad_sequences\n",
        "ml = 10\n",
        "nw = 1000"
      ],
      "metadata": {
        "id": "eCELomWNxhN4"
      },
      "execution_count": 61,
      "outputs": []
    },
    {
      "cell_type": "code",
      "source": [
        "tokenizer = Tokenizer(num_words=nw, oov_token='<OOV>')\n",
        "tokenizer.fit_on_texts(corpus)\n",
        "word_index = tokenizer.word_index\n",
        "sentences = tokenizer.texts_to_sequences(corpus)"
      ],
      "metadata": {
        "id": "APTqVXq7xcC1"
      },
      "execution_count": 62,
      "outputs": []
    },
    {
      "cell_type": "code",
      "source": [
        "sentences[:2]"
      ],
      "metadata": {
        "colab": {
          "base_uri": "https://localhost:8080/"
        },
        "id": "JqB0HA4tySXZ",
        "outputId": "d164bcbb-300d-46c0-86e6-b56830a4ff19"
      },
      "execution_count": 63,
      "outputs": [
        {
          "output_type": "execute_result",
          "data": {
            "text/plain": [
              "[[843, 1, 255, 44, 251, 1, 1, 44, 1, 146, 293, 548, 68, 1, 44, 3, 112],\n",
              " [499, 44, 548, 944, 1, 418, 24, 1, 163, 134, 160, 26]]"
            ]
          },
          "metadata": {},
          "execution_count": 63
        }
      ]
    },
    {
      "cell_type": "code",
      "source": [
        "padded = pad_sequences(sentences, maxlen=ml)\n",
        "padded[:2]"
      ],
      "metadata": {
        "id": "uOfLYsY8ysVr",
        "colab": {
          "base_uri": "https://localhost:8080/"
        },
        "outputId": "b3dd1934-45d5-477a-83a0-69286c4031be"
      },
      "execution_count": 64,
      "outputs": [
        {
          "output_type": "execute_result",
          "data": {
            "text/plain": [
              "array([[ 44,   1, 146, 293, 548,  68,   1,  44,   3, 112],\n",
              "       [548, 944,   1, 418,  24,   1, 163, 134, 160,  26]], dtype=int32)"
            ]
          },
          "metadata": {},
          "execution_count": 64
        }
      ]
    },
    {
      "cell_type": "code",
      "source": [
        "print(len(one_hot_labels))\n",
        "print(len(padded))\n",
        "print(type(one_hot_labels))\n",
        "print(type(padded))"
      ],
      "metadata": {
        "colab": {
          "base_uri": "https://localhost:8080/"
        },
        "id": "MSYRmJary2Cr",
        "outputId": "55913b45-a70b-44e6-9b75-8041b46af7c5"
      },
      "execution_count": 65,
      "outputs": [
        {
          "output_type": "stream",
          "name": "stdout",
          "text": [
            "19606\n",
            "19606\n",
            "<class 'numpy.ndarray'>\n",
            "<class 'numpy.ndarray'>\n"
          ]
        }
      ]
    },
    {
      "cell_type": "markdown",
      "metadata": {
        "id": "i5Ctpjmgr8N6"
      },
      "source": [
        "## 3. Model"
      ]
    },
    {
      "cell_type": "code",
      "execution_count": 66,
      "metadata": {
        "id": "ueVgRdXzr8N7"
      },
      "outputs": [],
      "source": [
        "import tensorflow as tf\n",
        "from tensorflow import keras\n",
        "from tensorflow.keras import layers"
      ]
    },
    {
      "cell_type": "code",
      "execution_count": 67,
      "metadata": {
        "id": "xvA4r6A-r8N7"
      },
      "outputs": [],
      "source": [
        "#\n",
        "def create_model(max_features = 10000,emb_dim = 128):\n",
        "    model = keras.Sequential()\n",
        "    model.add(layers.Embedding(max_features, emb_dim))\n",
        "    model.add(layers.GRU(128))\n",
        "    model.add(layers.Dense(6, activation='softmax'))\n",
        "    model.compile(optimizer=\"adam\",\n",
        "                  loss=keras.losses.categorical_crossentropy,\n",
        "                  metrics=[\"CategoricalAccuracy\"])\n",
        "    return model\n"
      ]
    },
    {
      "cell_type": "markdown",
      "metadata": {
        "id": "XT2QCbsPr8N7"
      },
      "source": [
        "## 4. Prediction"
      ]
    },
    {
      "cell_type": "code",
      "execution_count": 68,
      "metadata": {
        "id": "tAg2E41xr8N7"
      },
      "outputs": [],
      "source": [
        "import numpy as np\n",
        "from sklearn.model_selection import train_test_split\n",
        "from sklearn.feature_extraction.text import TfidfVectorizer, CountVectorizer\n",
        "from sklearn.metrics import classification_report, confusion_matrix"
      ]
    },
    {
      "cell_type": "code",
      "source": [
        "xtr, xts, ytr, yts = train_test_split(padded, one_hot_labels, test_size=0.2, random_state=42)"
      ],
      "metadata": {
        "id": "qbqSkyLLzc_S"
      },
      "execution_count": 69,
      "outputs": []
    },
    {
      "cell_type": "code",
      "execution_count": 70,
      "metadata": {
        "colab": {
          "base_uri": "https://localhost:8080/"
        },
        "id": "iaVkQLNFr8N8",
        "outputId": "066c846d-1b42-48f9-a0ac-307291ddcda7"
      },
      "outputs": [
        {
          "output_type": "stream",
          "name": "stdout",
          "text": [
            "(15684, 10)\n",
            "(15684, 6)\n",
            "(3922, 10)\n",
            "(3922, 6)\n"
          ]
        }
      ],
      "source": [
        "print(xtr.shape)\n",
        "print(ytr.shape)\n",
        "\n",
        "print(xts.shape)\n",
        "print(yts.shape)"
      ]
    },
    {
      "cell_type": "code",
      "execution_count": 71,
      "metadata": {
        "colab": {
          "base_uri": "https://localhost:8080/"
        },
        "id": "HR8ufe8sr8N9",
        "outputId": "4d074d05-1ce5-4331-9e95-ba113f456c8e"
      },
      "outputs": [
        {
          "output_type": "stream",
          "name": "stdout",
          "text": [
            "Model: \"sequential_1\"\n",
            "_________________________________________________________________\n",
            " Layer (type)                Output Shape              Param #   \n",
            "=================================================================\n",
            " embedding_1 (Embedding)     (None, None, 128)         128000    \n",
            "                                                                 \n",
            " gru_1 (GRU)                 (None, 128)               99072     \n",
            "                                                                 \n",
            " dense_1 (Dense)             (None, 6)                 774       \n",
            "                                                                 \n",
            "=================================================================\n",
            "Total params: 227846 (890.02 KB)\n",
            "Trainable params: 227846 (890.02 KB)\n",
            "Non-trainable params: 0 (0.00 Byte)\n",
            "_________________________________________________________________\n",
            "None\n"
          ]
        }
      ],
      "source": [
        "model = create_model(max_features=nw)\n",
        "print(model.summary())\n"
      ]
    },
    {
      "cell_type": "code",
      "execution_count": 72,
      "metadata": {
        "colab": {
          "base_uri": "https://localhost:8080/"
        },
        "id": "GOINE981r8OM",
        "outputId": "a722489b-f6bf-4716-816a-9d850edc9247"
      },
      "outputs": [
        {
          "output_type": "stream",
          "name": "stdout",
          "text": [
            "Epoch 1/5\n",
            "197/197 [==============================] - 12s 49ms/step - loss: 1.2041 - categorical_accuracy: 0.5581 - val_loss: 0.6490 - val_categorical_accuracy: 0.7998\n",
            "Epoch 2/5\n",
            "197/197 [==============================] - 2s 11ms/step - loss: 0.4839 - categorical_accuracy: 0.8298 - val_loss: 0.5157 - val_categorical_accuracy: 0.8157\n",
            "Epoch 3/5\n",
            "197/197 [==============================] - 2s 9ms/step - loss: 0.4003 - categorical_accuracy: 0.8477 - val_loss: 0.5098 - val_categorical_accuracy: 0.8135\n",
            "Epoch 4/5\n",
            "197/197 [==============================] - 2s 8ms/step - loss: 0.3654 - categorical_accuracy: 0.8579 - val_loss: 0.5067 - val_categorical_accuracy: 0.8164\n",
            "Epoch 5/5\n",
            "197/197 [==============================] - 1s 7ms/step - loss: 0.3442 - categorical_accuracy: 0.8669 - val_loss: 0.5172 - val_categorical_accuracy: 0.8122\n"
          ]
        }
      ],
      "source": [
        "history_cv = model.fit(xtr,\n",
        "                    ytr,\n",
        "                    epochs=5,\n",
        "                    batch_size=64,\n",
        "                    validation_split=0.2,\n",
        "                    shuffle = True,\n",
        "                    verbose = 1)"
      ]
    },
    {
      "cell_type": "code",
      "execution_count": 73,
      "metadata": {
        "colab": {
          "base_uri": "https://localhost:8080/"
        },
        "id": "Y9A6MjVhr8OO",
        "outputId": "bf88e7ae-435b-466e-aa71-7bd591631a0f"
      },
      "outputs": [
        {
          "output_type": "stream",
          "name": "stdout",
          "text": [
            "123/123 [==============================] - 1s 2ms/step\n"
          ]
        }
      ],
      "source": [
        "predictions = model.predict(xts)#.argmax"
      ]
    },
    {
      "cell_type": "code",
      "execution_count": 74,
      "metadata": {
        "colab": {
          "base_uri": "https://localhost:8080/"
        },
        "id": "WVrJ9SP-r8OO",
        "outputId": "8bec3fb4-7cf6-4a9a-a36c-326e5a876e33"
      },
      "outputs": [
        {
          "output_type": "execute_result",
          "data": {
            "text/plain": [
              "['sadness',\n",
              " 'anger',\n",
              " 'surprise',\n",
              " 'anger',\n",
              " 'anger',\n",
              " 'sadness',\n",
              " 'joy',\n",
              " 'anger',\n",
              " 'joy',\n",
              " 'joy']"
            ]
          },
          "metadata": {},
          "execution_count": 74
        }
      ],
      "source": [
        "predictions=enc.inverse_transform(predictions.argmax(axis=1)).tolist()\n",
        "predictions[:10]"
      ]
    },
    {
      "cell_type": "code",
      "source": [
        "labels_test = enc.inverse_transform(yts.argmax(axis=-1).tolist()).tolist()\n",
        "labels_test[:10]"
      ],
      "metadata": {
        "colab": {
          "base_uri": "https://localhost:8080/"
        },
        "id": "fUE08z_3TL2X",
        "outputId": "eab74d70-c132-4cfd-e4cc-d4e65ef6a0f7"
      },
      "execution_count": 75,
      "outputs": [
        {
          "output_type": "execute_result",
          "data": {
            "text/plain": [
              "['sadness',\n",
              " 'anger',\n",
              " 'surprise',\n",
              " 'anger',\n",
              " 'anger',\n",
              " 'sadness',\n",
              " 'joy',\n",
              " 'anger',\n",
              " 'sadness',\n",
              " 'joy']"
            ]
          },
          "metadata": {},
          "execution_count": 75
        }
      ]
    },
    {
      "cell_type": "code",
      "source": [
        "print(classification_report(labels_test, predictions))\n",
        "###  THESE WERE VALUES FOR BALANCED DATASET\n",
        "#              precision    recall  f1-score   support\n",
        "#\n",
        "#       anger       0.60      0.75      0.66       134\n",
        "#        fear       0.68      0.72      0.70       143\n",
        "#         joy       0.67      0.60      0.64       161\n",
        "#        love       0.69      0.82      0.75       123\n",
        "#     sadness       0.73      0.54      0.62       158\n",
        "#    surprise       0.86      0.81      0.84       133\n",
        "#\n",
        "#    accuracy                           0.70       852\n",
        "#   macro avg       0.71      0.71      0.70       852\n",
        "#weighted avg       0.71      0.70      0.70       852"
      ],
      "metadata": {
        "colab": {
          "base_uri": "https://localhost:8080/"
        },
        "id": "KYqAVMvWYPY1",
        "outputId": "de6fedde-3514-4d2b-b969-57b80ad8ed73"
      },
      "execution_count": 77,
      "outputs": [
        {
          "output_type": "stream",
          "name": "stdout",
          "text": [
            "              precision    recall  f1-score   support\n",
            "\n",
            "       anger       0.74      0.75      0.74       531\n",
            "        fear       0.81      0.76      0.78       466\n",
            "         joy       0.86      0.84      0.85      1303\n",
            "        love       0.76      0.69      0.73       349\n",
            "     sadness       0.81      0.88      0.85      1146\n",
            "    surprise       0.86      0.72      0.79       127\n",
            "\n",
            "    accuracy                           0.81      3922\n",
            "   macro avg       0.81      0.77      0.79      3922\n",
            "weighted avg       0.81      0.81      0.81      3922\n",
            "\n"
          ]
        }
      ]
    }
  ],
  "metadata": {
    "kernelspec": {
      "display_name": "Python 3",
      "name": "python3"
    },
    "language_info": {
      "codemirror_mode": {
        "name": "ipython",
        "version": 3
      },
      "file_extension": ".py",
      "mimetype": "text/x-python",
      "name": "python",
      "nbconvert_exporter": "python",
      "pygments_lexer": "ipython3",
      "version": "3.10.12"
    },
    "orig_nbformat": 4,
    "colab": {
      "provenance": [],
      "collapsed_sections": [
        "i5Ctpjmgr8N6"
      ],
      "gpuType": "T4"
    },
    "accelerator": "GPU"
  },
  "nbformat": 4,
  "nbformat_minor": 0
}